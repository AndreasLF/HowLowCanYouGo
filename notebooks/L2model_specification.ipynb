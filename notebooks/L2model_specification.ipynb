{
 "cells": [
  {
   "cell_type": "code",
   "execution_count": null,
   "metadata": {},
   "outputs": [],
   "source": []
  },
  {
   "cell_type": "markdown",
   "metadata": {},
   "source": [
    "## $L_2$-norm loss model specification"
   ]
  },
  {
   "cell_type": "markdown",
   "metadata": {},
   "source": [
    "Starting from LPCA loss, we modify the factorization objective:\n",
    "$$\n",
    "\\begin{align*}\n",
    "L \n",
    "&=\n",
    "\\sum_{i=1}^{n}\n",
    "\\sum_{j=1}^{n}\n",
    "-\\log\\mathcal{l}\n",
    "\\left(\n",
    "    \\tilde{A}_{i,j}\\left[XY^\\top\\right]_{i,j}\n",
    "\\right)\n",
    "\\\\\n",
    "&\\rightarrow\n",
    "\\sum_{i=1}^{n}\n",
    "\\sum_{j=1}^{n}\n",
    "-\\log\\mathcal{l}\n",
    "\\left(\n",
    "    \\tilde{A}_{i,j}\\left[\\beta - ||x_i - y_j||_2\\right]\n",
    "\\right)\n",
    "\\end{align*}\n",
    "$$"
   ]
  },
  {
   "cell_type": "markdown",
   "metadata": {},
   "source": [
    "### Test reconstruction"
   ]
  },
  {
   "cell_type": "code",
   "execution_count": 13,
   "metadata": {},
   "outputs": [],
   "source": [
    "import torch\n",
    "from graph_embeddings.models.L2Model import L2Model"
   ]
  },
  {
   "cell_type": "markdown",
   "metadata": {},
   "source": [
    "**Load dataset**"
   ]
  },
  {
   "cell_type": "code",
   "execution_count": 25,
   "metadata": {},
   "outputs": [],
   "source": [
    "adj = torch.load('../data/adj_matrices/Cora.pt')"
   ]
  },
  {
   "cell_type": "markdown",
   "metadata": {},
   "source": [
    "**Load model and initialize**"
   ]
  },
  {
   "cell_type": "code",
   "execution_count": 26,
   "metadata": {},
   "outputs": [],
   "source": [
    "X, Y = torch.load('../models/metric-emb/X_Y.pt')\n",
    "beta = torch.load('../models/metric-emb/beta.pt')\n",
    "\n",
    "model = L2Model(X.shape[0], Y.shape[1], X.shape[1])"
   ]
  },
  {
   "cell_type": "markdown",
   "metadata": {},
   "source": [
    "**Test reconstruction**"
   ]
  },
  {
   "cell_type": "code",
   "execution_count": 27,
   "metadata": {},
   "outputs": [],
   "source": [
    "recon = model.reconstruct((X,Y,beta))\n",
    "recon_clipped = torch.clip(recon, min=0, max=1)"
   ]
  },
  {
   "cell_type": "code",
   "execution_count": 34,
   "metadata": {},
   "outputs": [
    {
     "data": {
      "image/png": "[encoded data removed]",
      "text/plain": [
       "<Figure size 1500x500 with 3 Axes>"
      ]
     },
     "metadata": {},
     "output_type": "display_data"
    }
   ],
   "source": [
    "# slice first 100\n",
    "_x,_y = 500,600\n",
    "adj_slice = adj[_x:_y, _x:_y]\n",
    "recon_clipped_slice = recon_clipped[_x:_y, _x:_y]\n",
    "\n",
    "# plot the results side by side \n",
    "import matplotlib.pyplot as plt \n",
    "fig, ax = plt.subplots(1, 3, figsize=(15, 5))\n",
    "ax[0].imshow(adj_slice.detach().cpu().numpy())\n",
    "ax[0].set_title('Original')\n",
    "ax[1].imshow(recon_clipped_slice.detach().cpu().numpy())\n",
    "ax[1].set_title('Reconstructed')\n",
    "ax[2].imshow((adj_slice - recon_clipped_slice).detach().cpu().numpy())\n",
    "ax[2].set_title('Difference')\n",
    "plt.show()"
   ]
  },
  {
   "cell_type": "markdown",
   "metadata": {},
   "source": [
    "***Looks very promising, but plots above show one index where there is a difference.***"
   ]
  },
  {
   "cell_type": "markdown",
   "metadata": {},
   "source": [
    "## SVD"
   ]
  },
  {
   "cell_type": "markdown",
   "metadata": {},
   "source": [
    "power-metoden til SVD for at kunne arbejde sparse på $2A - 11^\\top$"
   ]
  }
 ],
 "metadata": {
  "kernelspec": {
   "display_name": "mlops",
   "language": "python",
   "name": "python3"
  },
  "language_info": {
   "codemirror_mode": {
    "name": "ipython",
    "version": 3
   },
   "file_extension": ".py",
   "mimetype": "text/x-python",
   "name": "python",
   "nbconvert_exporter": "python",
   "pygments_lexer": "ipython3",
   "version": "3.11.7"
  }
 },
 "nbformat": 4,
 "nbformat_minor": 2
}
